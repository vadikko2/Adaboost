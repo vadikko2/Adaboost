{
 "cells": [
  {
   "cell_type": "code",
   "execution_count": 24,
   "metadata": {},
   "outputs": [],
   "source": [
    "from sklearn import datasets\n",
    "import numpy as np\n",
    "import matplotlib.pyplot as plt\n",
    "import time"
   ]
  },
  {
   "cell_type": "code",
   "execution_count": 25,
   "metadata": {},
   "outputs": [],
   "source": [
    "def sep_two_classes(Y, num_class):\n",
    "    Y = Y.copy()\n",
    "    for i in range(Y.shape[0]):\n",
    "        if Y[i] == num_class:\n",
    "            Y[i] = 1\n",
    "        else:\n",
    "            Y[i] = -1\n",
    "    return Y"
   ]
  },
  {
   "cell_type": "code",
   "execution_count": 26,
   "metadata": {},
   "outputs": [],
   "source": [
    "def h(theta, X):\n",
    "    return 1.0 / (1 + np.exp(-np.dot(X, theta)))"
   ]
  },
  {
   "cell_type": "code",
   "execution_count": 27,
   "metadata": {},
   "outputs": [],
   "source": [
    "def weak_clssefier(X, weights):\n",
    "    Z = h(weights, X)\n",
    "    return Z"
   ]
  },
  {
   "cell_type": "code",
   "execution_count": 39,
   "metadata": {},
   "outputs": [],
   "source": [
    "def train_clf(X, Y, weights):\n",
    "    newY = np.asarray([y if y == 1 else 0 for y in Y])\n",
    "    P = np.asarray(h(weights, X))\n",
    "    L = 0\n",
    "    _accuracy = 0\n",
    "    alpha = 0.001\n",
    "    t = 0\n",
    "    while t < 100:\n",
    "        for i in range(len(weights)):\n",
    "            weights[i] -= alpha * sum([(P[j] - newY[j])*X[j][i] for j in range(len(P))])\n",
    "        P = h(weights, X)\n",
    "        _accuracy = accuracy(newY, [0 if p < 0.5 else 1 for p in P])\n",
    "        alpha = max(0.0001, alpha*0.9)\n",
    "        t+=1\n",
    "        if _accuracy > 0.5:\n",
    "            return weights\n",
    "    return weights"
   ]
  },
  {
   "cell_type": "code",
   "execution_count": 29,
   "metadata": {},
   "outputs": [],
   "source": [
    "def Q(X, Y, W, weights_for_weak_clf):\n",
    "    Qsum = 0\n",
    "    for i in range(X.shape[0]):\n",
    "        b = -1 if weak_clssefier(X[i], weights_for_weak_clf) < 0.5 else 1\n",
    "        I = 1 if (Y[i]*b) < 0 else 0\n",
    "        Qsum += W[i] * I\n",
    "    return Qsum"
   ]
  },
  {
   "cell_type": "code",
   "execution_count": 30,
   "metadata": {},
   "outputs": [],
   "source": [
    "def alpha(Q):\n",
    "    return 0.5 * np.log((1-Q)/Q)"
   ]
  },
  {
   "cell_type": "code",
   "execution_count": 31,
   "metadata": {},
   "outputs": [],
   "source": [
    "def fit(X, Y, num_weak_clf, T):\n",
    "    #1 инициализация весов объектов\n",
    "    w = np.asarray([1/X.shape[0] for i in range(X.shape[0])])\n",
    "    alphas = []\n",
    "    bs = []\n",
    "    #2 Для всех t=1,...,T, пока не выполнен критерий останова.\n",
    "    while len(alphas) < num_weak_clf:\n",
    "        weights_for_weak_cls = np.random.rand(T, X.shape[1])#инициализируем матрицу с весами для слабых классификаторов,\n",
    "                        #выберем тот, у которого самые хорошие веса\n",
    "        \n",
    "        #2.1 Находим классификатор b_t: X->{-1,+1} который минимизирует взвешенную ошибку классификации;\n",
    "        #b_t = argmin_b Q(b,W^l);\n",
    "        Qs = []\n",
    "        for wfwc in weights_for_weak_cls:\n",
    "            wfwc = train_clf(X, Y, wfwc)\n",
    "            Qs.append(Q(X, Y, w, wfwc))\n",
    "            \n",
    "        Qs = np.asarray(Qs)\n",
    "        argmin = np.argmin(Qs)\n",
    "        \n",
    "        if Qs[argmin]> 0.5:\n",
    "            pass\n",
    "        else:\n",
    "            b_t_weights = weights_for_weak_cls[argmin]\n",
    "            bs.append(b_t_weights)\n",
    "            \n",
    "            #2.2 Пересчитываем кооэффициент взвешенного голосования для алгоритма классификации b_t:\n",
    "\n",
    "            alpha_t = alpha(Qs[argmin])\n",
    "            alphas.append(alpha_t)\n",
    "\n",
    "            #2.3 Пересчет весов объектов: w_i = w_i*exp(-alpha_t*y_i*b_t(x_i)), i = 1,...,l\n",
    "            for i in range(w.shape[0]):\n",
    "                b = -1 if weak_clssefier(X[i], b_t_weights) < 0.5 else 1\n",
    "                w[i] *= np.exp(-alpha_t*Y[i]*b)\n",
    "\n",
    "            #2.4 Нормировка весов объектов:\n",
    "\n",
    "            w0 = np.sum(w)\n",
    "            for ww in w:\n",
    "                ww/=w0\n",
    "    return np.asarray(alphas), np.asarray(bs)\n",
    "        "
   ]
  },
  {
   "cell_type": "code",
   "execution_count": 32,
   "metadata": {},
   "outputs": [],
   "source": [
    "def predict(X, alphas, weak_clf_weights):\n",
    "    tmp_sum = 0\n",
    "    for t in range(alphas.shape[0]):\n",
    "        b = -1 if weak_clssefier(X, weak_clf_weights[t]) < 0.5 else 1\n",
    "        tmp_sum += alphas[t] * b\n",
    "    return (np.sign(tmp_sum), tmp_sum)"
   ]
  },
  {
   "cell_type": "code",
   "execution_count": 33,
   "metadata": {},
   "outputs": [],
   "source": [
    "def accuracy(y_true, y_pred):\n",
    "    counter = 0\n",
    "    for i in range(len(y_true)):\n",
    "        if y_true[i] == y_pred[i]:\n",
    "            counter +=1\n",
    "    return counter/len(y_true)"
   ]
  },
  {
   "cell_type": "code",
   "execution_count": 34,
   "metadata": {},
   "outputs": [],
   "source": [
    "def plot_progress(X, Y, alphas, bs):\n",
    "    progress = [0,]\n",
    "    for i in range(0, len(alphas[0])):\n",
    "        ttl = []\n",
    "        for x in X:\n",
    "            pr0 = predict(x, alphas[0][0:i], bs[0][0:i, :])\n",
    "            pr1 = predict(x, alphas[1][0:i], bs[1][0:i, :])\n",
    "            pr2 = predict(x, alphas[2][0:i], bs[2][0:i, :])\n",
    "            ttl.append(np.argmax(np.asarray([pr0[1], pr1[1], pr2[1]])))\n",
    "        progress.append(accuracy(Y, ttl))\n",
    "    plt.plot(progress)\n",
    "    plt.yticks(np.arange(0, 1.0, 0.1))\n",
    "    plt.show()"
   ]
  },
  {
   "cell_type": "code",
   "execution_count": 35,
   "metadata": {},
   "outputs": [],
   "source": [
    "iris = datasets.load_iris()\n",
    "X, Y = iris.data, iris.target\n",
    "p=np.random.permutation(X.shape[0])\n",
    "x_train = X[p[0:int(len(X)*0.7)], :]\n",
    "y_train = Y[p[0:int(len(Y)*0.7)]]\n",
    "x_test = X[p[int(len(X)*0.7):], :]\n",
    "y_test = Y[p[int(len(Y)*0.7):]]\n",
    "x_train = (x_train - np.mean(x_train, axis = 0)) / np.var(x_train, axis = 0)\n",
    "x_test = (x_test - np.mean(x_test, axis = 0)) / np.var(x_test, axis = 0)\n",
    "\n",
    "y_train0 = sep_two_classes(y_train, 0)\n",
    "y_train1 = sep_two_classes(y_train, 1)\n",
    "y_train2 = sep_two_classes(y_train, 2)\n",
    "\n",
    "y_test0 = sep_two_classes(y_test, 0)\n",
    "y_test1 = sep_two_classes(y_test, 1)\n",
    "y_test2 = sep_two_classes(y_test, 2)"
   ]
  },
  {
   "cell_type": "code",
   "execution_count": 42,
   "metadata": {
    "scrolled": true
   },
   "outputs": [
    {
     "name": "stdout",
     "output_type": "stream",
     "text": [
      "\n",
      "\n",
      "\n",
      "----------------------------------------------\n",
      "--- 7.685593128204346 seconds ---\n"
     ]
    },
    {
     "data": {
      "image/png": "[encoded data removed]",
      "text/plain": [
       "<matplotlib.figure.Figure at 0x20aadc0beb8>"
      ]
     },
     "metadata": {},
     "output_type": "display_data"
    },
    {
     "name": "stdout",
     "output_type": "stream",
     "text": [
      "accurecy: 5 weak clfs \n",
      " 0:|0.6| \n",
      " 1:|0.6222222222222222| \n",
      " 2:|0.8666666666666667| \n",
      " total:|0.8444444444444444| \n",
      "\n"
     ]
    }
   ],
   "source": [
    "#np.random.seed(0)\n",
    "num_wclfs = 5\n",
    "print('\\n\\n\\n----------------------------------------------')\n",
    "start_time = time.time()\n",
    "alphas0, bs0 = fit(x_train, y_train0, num_wclfs, 15)\n",
    "alphas1, bs1 = fit(x_train, y_train1, num_wclfs, 15)\n",
    "alphas2, bs2 = fit(x_train, y_train2, num_wclfs, 15)\n",
    "print(\"--- %s seconds ---\" % (time.time() - start_time))\n",
    "\n",
    "plot_progress(x_test, y_test, [alphas0, alphas1, alphas2], [bs0, bs1, bs2])\n",
    "y_predicted0 = []\n",
    "y_predicted1 = []\n",
    "y_predicted2 = []\n",
    "total_pr = []\n",
    "for x in x_test:\n",
    "    pr0 = predict(x, alphas0, bs0)\n",
    "    pr1 = predict(x, alphas1, bs1)\n",
    "    pr2 = predict(x, alphas2, bs2)\n",
    "    y_predicted0.append(pr0[0])\n",
    "    y_predicted1.append(pr1[0])\n",
    "    y_predicted2.append(pr2[0])\n",
    "    total_pr.append(np.argmax(np.asarray([pr0[1], pr1[1], pr2[1]])))\n",
    "\n",
    "y_predicted0 = np.asarray(y_predicted0)\n",
    "y_predicted1 = np.asarray(y_predicted1)\n",
    "y_predicted2 = np.asarray(y_predicted2)\n",
    "total_pr = np.asarray(total_pr)\n",
    "\n",
    "acc0 = accuracy(y_test0, y_predicted0)\n",
    "acc1 = accuracy(y_test1, y_predicted1)\n",
    "acc2 = accuracy(y_test2, y_predicted2)\n",
    "total_acc = accuracy(y_test, total_pr)\n",
    "\n",
    "print('accurecy: {T} weak clfs'.format(T=num_wclfs), '\\n 0:|{acc0}| \\n 1:|{acc1}| \\n 2:|{acc2}| \\n total:|{total_acc}| \\n'.format(acc0=acc0, acc1=acc1, acc2=acc2, total_acc=total_acc))"
   ]
  },
  {
   "cell_type": "code",
   "execution_count": null,
   "metadata": {},
   "outputs": [],
   "source": []
  }
 ],
 "metadata": {
  "kernelspec": {
   "display_name": "Python 3",
   "language": "python",
   "name": "python3"
  },
  "language_info": {
   "codemirror_mode": {
    "name": "ipython",
    "version": 3
   },
   "file_extension": ".py",
   "mimetype": "text/x-python",
   "name": "python",
   "nbconvert_exporter": "python",
   "pygments_lexer": "ipython3",
   "version": "3.6.4"
  }
 },
 "nbformat": 4,
 "nbformat_minor": 1
}
