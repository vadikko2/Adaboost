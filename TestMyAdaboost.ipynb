{
 "cells": [
  {
   "cell_type": "code",
   "execution_count": 16,
   "metadata": {
    "collapsed": false
   },
   "outputs": [],
   "source": [
    "from sklearn import datasets\n",
    "import numpy as np\n",
    "from matplotlib import pyplot"
   ]
  },
  {
   "cell_type": "code",
   "execution_count": 17,
   "metadata": {
    "collapsed": false
   },
   "outputs": [],
   "source": [
    "def sep_two_classes(Y, num_class):\n",
    "    Y = Y.copy()\n",
    "    for i in range(Y.shape[0]):\n",
    "        if Y[i] == num_class:\n",
    "            Y[i] = 1\n",
    "        else:\n",
    "            Y[i] = -1\n",
    "    return Y"
   ]
  },
  {
   "cell_type": "code",
   "execution_count": 18,
   "metadata": {
    "collapsed": true
   },
   "outputs": [],
   "source": [
    "def h(theta, X):\n",
    "    return 1.0 / (1 + np.exp(-np.dot(X, theta)))"
   ]
  },
  {
   "cell_type": "code",
   "execution_count": 19,
   "metadata": {
    "collapsed": false
   },
   "outputs": [],
   "source": [
    "def weak_clssefier(X, weights):\n",
    "    Z = h(weights, X)\n",
    "    return Z"
   ]
  },
  {
   "cell_type": "code",
   "execution_count": 20,
   "metadata": {
    "collapsed": false
   },
   "outputs": [],
   "source": [
    "def Q(X, Y, W, weights_for_weak_clf):\n",
    "    Qsum = 0\n",
    "    for i in range(X.shape[0]):\n",
    "        #if Y[i] == -1:\n",
    "        #    Y[i] = 0\n",
    "        #p = weak_clssefier(X[i], weights_for_weak_clf)\n",
    "        #Qsum -= (W[i]*Y[i]*np.log(p)) + (W[i]*(1.-Y[i])*np.log(1-p))\n",
    "        p = -1 if weak_clssefier(X[i], weights_for_weak_clf) < 0.5 else 1\n",
    "        I = 1 if (Y[i]*p) < 0 else 0\n",
    "        Qsum += W[i] * I\n",
    "    return Qsum"
   ]
  },
  {
   "cell_type": "code",
   "execution_count": 21,
   "metadata": {
    "collapsed": true
   },
   "outputs": [],
   "source": [
    "def alpha(Q):\n",
    "    return 0.5 * np.log((1-Q)/Q)"
   ]
  },
  {
   "cell_type": "code",
   "execution_count": 22,
   "metadata": {
    "collapsed": false
   },
   "outputs": [],
   "source": [
    "def fit(X, Y, num_weak_clf, T):\n",
    "    #1 инициализация весов объектов\n",
    "    P = np.asarray([1/X.shape[0] for i in range(X.shape[0])])\n",
    "    alphas = []\n",
    "    bs = []\n",
    "    #2 Для всех t=1,...,T, пока не выполнен критерий останова.\n",
    "    while len(alphas) < num_weak_clf:\n",
    "        weights_for_weak_cls = np.random.rand(T, X.shape[1])#инициализируем матрицу с весами для слабых классификаторов,\n",
    "                        #выберем тот, у которого самые хорошие веса\n",
    "        #print('WFCLS', weights_for_weak_cls)\n",
    "        #2.1 Находим классификатор b_t: X->{-1,+1} который минимизирует взвешенную ошибку классификации;\n",
    "        #b_t = argmin_b Q(b,W^l);\n",
    "        Qs = []\n",
    "        for wfwc in weights_for_weak_cls:\n",
    "            Qs.append(Q(X, Y, P, wfwc))\n",
    "        Qs = np.asarray(Qs)\n",
    "        argmin = np.argmin(Qs)\n",
    "        if Qs[argmin] >= 0.5:\n",
    "            pass\n",
    "        else:\n",
    "            b_t_weights = weights_for_weak_cls[argmin]\n",
    "            bs.append(b_t_weights)\n",
    "            #2.2 Пересчитываем кооэффициент взвешенного голосования для алгоритма классификации b_t:\n",
    "\n",
    "            alpha_t = alpha(Qs[argmin])\n",
    "            alphas.append(alpha_t)\n",
    "\n",
    "            #2.3 Пересчет весов объектов: w_i = w_i*exp(-alpha_t*y_i*b_t(x_i)), i = 1,...,l\n",
    "            for i in range(P.shape[0]):\n",
    "                #if Y[i] == 0:\n",
    "                #    Y[i] = -1\n",
    "                p = -1 if weak_clssefier(X[i], b_t_weights) < 0.5 else 1\n",
    "                P[i] *= np.exp(-alpha_t*Y[i]*p)\n",
    "\n",
    "            #2.4 Нормировка весов объектов:\n",
    "\n",
    "            P0 = np.sum(P)\n",
    "            for p in P:\n",
    "                p/=P0\n",
    "    return np.asarray(alphas), np.asarray(bs)\n",
    "        "
   ]
  },
  {
   "cell_type": "code",
   "execution_count": 23,
   "metadata": {
    "collapsed": true
   },
   "outputs": [],
   "source": [
    "def predict(X, alphas, weak_clf_weights):\n",
    "    tmp_sum = 0\n",
    "    for t in range(alphas.shape[0]):\n",
    "        p = -1 if weak_clssefier(X, weak_clf_weights[t]) < 0.5 else 1\n",
    "        tmp_sum += alphas[t] * p\n",
    "    return (np.sign(tmp_sum), tmp_sum)"
   ]
  },
  {
   "cell_type": "code",
   "execution_count": 24,
   "metadata": {
    "collapsed": false
   },
   "outputs": [],
   "source": [
    "def accuracy(y_true, y_pred):\n",
    "    counter = 0\n",
    "    for i in range(len(y_true)):\n",
    "        if y_true[i] == y_pred[i]:\n",
    "            counter +=1\n",
    "    return counter/len(y_true)"
   ]
  },
  {
   "cell_type": "code",
   "execution_count": 25,
   "metadata": {
    "collapsed": false
   },
   "outputs": [],
   "source": [
    "iris = datasets.load_iris()\n",
    "X, Y = iris.data, iris.target\n",
    "p=np.random.permutation(X.shape[0])\n",
    "x_train = X[p[0:int(len(X)*0.7)], :]\n",
    "y_train = Y[p[0:int(len(Y)*0.7)]]\n",
    "x_test = X[p[int(len(X)*0.7):], :]\n",
    "y_test = Y[p[int(len(Y)*0.7):]]\n",
    "x_train = (x_train - np.mean(x_train, axis = 0)) / np.var(x_train, axis = 0)\n",
    "x_test = (x_test - np.mean(x_test, axis = 0)) / np.var(x_test, axis = 0)\n",
    "\n",
    "y_train0 = sep_two_classes(y_train, 0)\n",
    "y_train1 = sep_two_classes(y_train, 1)\n",
    "y_train2 = sep_two_classes(y_train, 2)\n",
    "\n",
    "y_test0 = sep_two_classes(y_test, 0)\n",
    "y_test1 = sep_two_classes(y_test, 1)\n",
    "y_test2 = sep_two_classes(y_test, 2)"
   ]
  },
  {
   "cell_type": "code",
   "execution_count": 26,
   "metadata": {
    "collapsed": false,
    "scrolled": true
   },
   "outputs": [
    {
     "name": "stdout",
     "output_type": "stream",
     "text": [
      "accurecy: 10 weak clfs \n",
      " 0:|0.6| \n",
      " 1:|0.3111111111111111| \n",
      " 2:|0.8666666666666667| \n",
      " total:|0.7555555555555555| \n",
      "\n"
     ]
    },
    {
     "ename": "KeyboardInterrupt",
     "evalue": "",
     "output_type": "error",
     "traceback": [
      "\u001b[1;31m---------------------------------------------------------------------------\u001b[0m",
      "\u001b[1;31mKeyboardInterrupt\u001b[0m                         Traceback (most recent call last)",
      "\u001b[1;32m<ipython-input-26-e085fe5e4318>\u001b[0m in \u001b[0;36m<module>\u001b[1;34m()\u001b[0m\n\u001b[0;32m      6\u001b[0m \u001b[1;32mfor\u001b[0m \u001b[0mnum_wclfs\u001b[0m \u001b[1;32min\u001b[0m \u001b[0mrange\u001b[0m\u001b[1;33m(\u001b[0m\u001b[1;36m10\u001b[0m\u001b[1;33m,\u001b[0m \u001b[1;36m300\u001b[0m\u001b[1;33m,\u001b[0m \u001b[1;36m2\u001b[0m\u001b[1;33m)\u001b[0m\u001b[1;33m:\u001b[0m\u001b[1;33m\u001b[0m\u001b[0m\n\u001b[0;32m      7\u001b[0m     \u001b[0malphas0\u001b[0m\u001b[1;33m,\u001b[0m \u001b[0mbs0\u001b[0m \u001b[1;33m=\u001b[0m \u001b[0mfit\u001b[0m\u001b[1;33m(\u001b[0m\u001b[0mx_train\u001b[0m\u001b[1;33m,\u001b[0m \u001b[0my_train0\u001b[0m\u001b[1;33m,\u001b[0m \u001b[0mnum_wclfs\u001b[0m\u001b[1;33m,\u001b[0m \u001b[1;36m10\u001b[0m\u001b[1;33m)\u001b[0m\u001b[1;33m\u001b[0m\u001b[0m\n\u001b[1;32m----> 8\u001b[1;33m     \u001b[0malphas1\u001b[0m\u001b[1;33m,\u001b[0m \u001b[0mbs1\u001b[0m \u001b[1;33m=\u001b[0m \u001b[0mfit\u001b[0m\u001b[1;33m(\u001b[0m\u001b[0mx_train\u001b[0m\u001b[1;33m,\u001b[0m \u001b[0my_train1\u001b[0m\u001b[1;33m,\u001b[0m \u001b[0mnum_wclfs\u001b[0m\u001b[1;33m,\u001b[0m \u001b[1;36m10\u001b[0m\u001b[1;33m)\u001b[0m\u001b[1;33m\u001b[0m\u001b[0m\n\u001b[0m\u001b[0;32m      9\u001b[0m     \u001b[0malphas2\u001b[0m\u001b[1;33m,\u001b[0m \u001b[0mbs2\u001b[0m \u001b[1;33m=\u001b[0m \u001b[0mfit\u001b[0m\u001b[1;33m(\u001b[0m\u001b[0mx_train\u001b[0m\u001b[1;33m,\u001b[0m \u001b[0my_train2\u001b[0m\u001b[1;33m,\u001b[0m \u001b[0mnum_wclfs\u001b[0m\u001b[1;33m,\u001b[0m \u001b[1;36m10\u001b[0m\u001b[1;33m)\u001b[0m\u001b[1;33m\u001b[0m\u001b[0m\n\u001b[0;32m     10\u001b[0m \u001b[1;33m\u001b[0m\u001b[0m\n",
      "\u001b[1;32m<ipython-input-22-e3e3f874de8c>\u001b[0m in \u001b[0;36mfit\u001b[1;34m(X, Y, num_weak_clf, T)\u001b[0m\n\u001b[0;32m     13\u001b[0m         \u001b[0mQs\u001b[0m \u001b[1;33m=\u001b[0m \u001b[1;33m[\u001b[0m\u001b[1;33m]\u001b[0m\u001b[1;33m\u001b[0m\u001b[0m\n\u001b[0;32m     14\u001b[0m         \u001b[1;32mfor\u001b[0m \u001b[0mwfwc\u001b[0m \u001b[1;32min\u001b[0m \u001b[0mweights_for_weak_cls\u001b[0m\u001b[1;33m:\u001b[0m\u001b[1;33m\u001b[0m\u001b[0m\n\u001b[1;32m---> 15\u001b[1;33m             \u001b[0mQs\u001b[0m\u001b[1;33m.\u001b[0m\u001b[0mappend\u001b[0m\u001b[1;33m(\u001b[0m\u001b[0mQ\u001b[0m\u001b[1;33m(\u001b[0m\u001b[0mX\u001b[0m\u001b[1;33m,\u001b[0m \u001b[0mY\u001b[0m\u001b[1;33m,\u001b[0m \u001b[0mP\u001b[0m\u001b[1;33m,\u001b[0m \u001b[0mwfwc\u001b[0m\u001b[1;33m)\u001b[0m\u001b[1;33m)\u001b[0m\u001b[1;33m\u001b[0m\u001b[0m\n\u001b[0m\u001b[0;32m     16\u001b[0m         \u001b[0mQs\u001b[0m \u001b[1;33m=\u001b[0m \u001b[0mnp\u001b[0m\u001b[1;33m.\u001b[0m\u001b[0masarray\u001b[0m\u001b[1;33m(\u001b[0m\u001b[0mQs\u001b[0m\u001b[1;33m)\u001b[0m\u001b[1;33m\u001b[0m\u001b[0m\n\u001b[0;32m     17\u001b[0m         \u001b[0margmin\u001b[0m \u001b[1;33m=\u001b[0m \u001b[0mnp\u001b[0m\u001b[1;33m.\u001b[0m\u001b[0margmin\u001b[0m\u001b[1;33m(\u001b[0m\u001b[0mQs\u001b[0m\u001b[1;33m)\u001b[0m\u001b[1;33m\u001b[0m\u001b[0m\n",
      "\u001b[1;32m<ipython-input-20-052e4fcd20db>\u001b[0m in \u001b[0;36mQ\u001b[1;34m(X, Y, W, weights_for_weak_clf)\u001b[0m\n\u001b[0;32m      6\u001b[0m         \u001b[1;31m#p = weak_clssefier(X[i], weights_for_weak_clf)\u001b[0m\u001b[1;33m\u001b[0m\u001b[1;33m\u001b[0m\u001b[0m\n\u001b[0;32m      7\u001b[0m         \u001b[1;31m#Qsum -= (W[i]*Y[i]*np.log(p)) + (W[i]*(1.-Y[i])*np.log(1-p))\u001b[0m\u001b[1;33m\u001b[0m\u001b[1;33m\u001b[0m\u001b[0m\n\u001b[1;32m----> 8\u001b[1;33m         \u001b[0mp\u001b[0m \u001b[1;33m=\u001b[0m \u001b[1;33m-\u001b[0m\u001b[1;36m1\u001b[0m \u001b[1;32mif\u001b[0m \u001b[0mweak_clssefier\u001b[0m\u001b[1;33m(\u001b[0m\u001b[0mX\u001b[0m\u001b[1;33m[\u001b[0m\u001b[0mi\u001b[0m\u001b[1;33m]\u001b[0m\u001b[1;33m,\u001b[0m \u001b[0mweights_for_weak_clf\u001b[0m\u001b[1;33m)\u001b[0m \u001b[1;33m<\u001b[0m \u001b[1;36m0.5\u001b[0m \u001b[1;32melse\u001b[0m \u001b[1;36m1\u001b[0m\u001b[1;33m\u001b[0m\u001b[0m\n\u001b[0m\u001b[0;32m      9\u001b[0m         \u001b[0mI\u001b[0m \u001b[1;33m=\u001b[0m \u001b[1;36m1\u001b[0m \u001b[1;32mif\u001b[0m \u001b[1;33m(\u001b[0m\u001b[0mY\u001b[0m\u001b[1;33m[\u001b[0m\u001b[0mi\u001b[0m\u001b[1;33m]\u001b[0m\u001b[1;33m*\u001b[0m\u001b[0mp\u001b[0m\u001b[1;33m)\u001b[0m \u001b[1;33m<\u001b[0m \u001b[1;36m0\u001b[0m \u001b[1;32melse\u001b[0m \u001b[1;36m0\u001b[0m\u001b[1;33m\u001b[0m\u001b[0m\n\u001b[0;32m     10\u001b[0m         \u001b[0mQsum\u001b[0m \u001b[1;33m+=\u001b[0m \u001b[0mW\u001b[0m\u001b[1;33m[\u001b[0m\u001b[0mi\u001b[0m\u001b[1;33m]\u001b[0m \u001b[1;33m*\u001b[0m \u001b[0mI\u001b[0m\u001b[1;33m\u001b[0m\u001b[0m\n",
      "\u001b[1;32m<ipython-input-19-8cef3ad3cee9>\u001b[0m in \u001b[0;36mweak_clssefier\u001b[1;34m(X, weights)\u001b[0m\n\u001b[0;32m      1\u001b[0m \u001b[1;32mdef\u001b[0m \u001b[0mweak_clssefier\u001b[0m\u001b[1;33m(\u001b[0m\u001b[0mX\u001b[0m\u001b[1;33m,\u001b[0m \u001b[0mweights\u001b[0m\u001b[1;33m)\u001b[0m\u001b[1;33m:\u001b[0m\u001b[1;33m\u001b[0m\u001b[0m\n\u001b[1;32m----> 2\u001b[1;33m     \u001b[0mZ\u001b[0m \u001b[1;33m=\u001b[0m \u001b[0mh\u001b[0m\u001b[1;33m(\u001b[0m\u001b[0mweights\u001b[0m\u001b[1;33m,\u001b[0m \u001b[0mX\u001b[0m\u001b[1;33m)\u001b[0m\u001b[1;33m\u001b[0m\u001b[0m\n\u001b[0m\u001b[0;32m      3\u001b[0m     \u001b[1;32mreturn\u001b[0m \u001b[0mZ\u001b[0m\u001b[1;33m\u001b[0m\u001b[0m\n",
      "\u001b[1;32m<ipython-input-18-685d93d00999>\u001b[0m in \u001b[0;36mh\u001b[1;34m(theta, X)\u001b[0m\n\u001b[0;32m      1\u001b[0m \u001b[1;32mdef\u001b[0m \u001b[0mh\u001b[0m\u001b[1;33m(\u001b[0m\u001b[0mtheta\u001b[0m\u001b[1;33m,\u001b[0m \u001b[0mX\u001b[0m\u001b[1;33m)\u001b[0m\u001b[1;33m:\u001b[0m\u001b[1;33m\u001b[0m\u001b[0m\n\u001b[1;32m----> 2\u001b[1;33m     \u001b[1;32mreturn\u001b[0m \u001b[1;36m1.0\u001b[0m \u001b[1;33m/\u001b[0m \u001b[1;33m(\u001b[0m\u001b[1;36m1\u001b[0m \u001b[1;33m+\u001b[0m \u001b[0mnp\u001b[0m\u001b[1;33m.\u001b[0m\u001b[0mexp\u001b[0m\u001b[1;33m(\u001b[0m\u001b[1;33m-\u001b[0m\u001b[0mnp\u001b[0m\u001b[1;33m.\u001b[0m\u001b[0mdot\u001b[0m\u001b[1;33m(\u001b[0m\u001b[0mX\u001b[0m\u001b[1;33m,\u001b[0m \u001b[0mtheta\u001b[0m\u001b[1;33m)\u001b[0m\u001b[1;33m)\u001b[0m\u001b[1;33m)\u001b[0m\u001b[1;33m\u001b[0m\u001b[0m\n\u001b[0m",
      "\u001b[1;31mKeyboardInterrupt\u001b[0m: "
     ]
    }
   ],
   "source": [
    "accuracys0 = np.asarray([])\n",
    "accuracys1 = np.asarray([])\n",
    "accuracys2 = np.asarray([])\n",
    "total_accs = np.asarray([])\n",
    "\n",
    "for num_wclfs in range(10, 300, 2):\n",
    "    alphas0, bs0 = fit(x_train, y_train0, num_wclfs, 10)\n",
    "    alphas1, bs1 = fit(x_train, y_train1, num_wclfs, 10)\n",
    "    alphas2, bs2 = fit(x_train, y_train2, num_wclfs, 10)\n",
    "\n",
    "    y_predicted0 = []\n",
    "    y_predicted1 = []\n",
    "    y_predicted2 = []\n",
    "    total_pr = []\n",
    "    for x in x_test:\n",
    "        pr0 = predict(x, alphas0, bs0)\n",
    "        pr1 = predict(x, alphas1, bs1)\n",
    "        pr2 = predict(x, alphas2, bs2)\n",
    "        y_predicted0.append(pr0[0])\n",
    "        y_predicted1.append(pr1[0])\n",
    "        y_predicted2.append(pr2[0])\n",
    "        total_pr.append(np.argmax(np.asarray([pr0[1], pr1[1], pr2[1]])))\n",
    "            \n",
    "    y_predicted0 = np.asarray(y_predicted0)\n",
    "    y_predicted1 = np.asarray(y_predicted1)\n",
    "    y_predicted2 = np.asarray(y_predicted2)\n",
    "    total_pr = np.asarray(total_pr)\n",
    "    \n",
    "    acc0 = accuracy(y_test0, y_predicted0)\n",
    "    acc1 = accuracy(y_test1, y_predicted1)\n",
    "    acc2 = accuracy(y_test2, y_predicted2)\n",
    "    total_acc = accuracy(y_test, total_pr)\n",
    "    \n",
    "    np.append(accuracys0, acc0)\n",
    "    np.append(accuracys1, acc1)\n",
    "    np.append(accuracys2, acc2)\n",
    "    np.append(total_accs, total_acc)\n",
    "    print('accurecy: {T} weak clfs'.format(T=num_wclfs), '\\n 0:|{acc0}| \\n 1:|{acc1}| \\n 2:|{acc2}| \\n total:|{total_acc}| \\n'.format(acc0=acc0, acc1=acc1, acc2=acc2, total_acc=total_acc))"
   ]
  },
  {
   "cell_type": "code",
   "execution_count": null,
   "metadata": {
    "collapsed": true
   },
   "outputs": [],
   "source": []
  }
 ],
 "metadata": {
  "kernelspec": {
   "display_name": "Python 3",
   "language": "python",
   "name": "python3"
  },
  "language_info": {
   "codemirror_mode": {
    "name": "ipython",
    "version": 3
   },
   "file_extension": ".py",
   "mimetype": "text/x-python",
   "name": "python",
   "nbconvert_exporter": "python",
   "pygments_lexer": "ipython3",
   "version": "3.5.1"
  }
 },
 "nbformat": 4,
 "nbformat_minor": 0
}
