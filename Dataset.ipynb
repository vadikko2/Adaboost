{
 "cells": [
  {
   "cell_type": "code",
   "execution_count": 1,
   "metadata": {},
   "outputs": [],
   "source": [
    "import pandas as pd\n",
    "import numpy as np\n",
    "from sklearn.preprocessing import Imputer"
   ]
  },
  {
   "cell_type": "code",
   "execution_count": 57,
   "metadata": {},
   "outputs": [],
   "source": [
    "def fit_preproc(x):\n",
    "    colm_val_dict = {}\n",
    "    for i in range(0, x.shape[1]):\n",
    "        tmp = x[:, i]\n",
    "        if type(tmp[0]) is str:\n",
    "            count = 0\n",
    "            value_dict = {}\n",
    "            #составляем словарь\n",
    "            for val in tmp:\n",
    "                if not (val in value_dict.keys()):\n",
    "                    if val == '?':\n",
    "                        value_dict[val] = np.nan\n",
    "                    else:\n",
    "                        value_dict[val] = count\n",
    "                        count+=1\n",
    "            colm_val_dict[str(i)] = value_dict\n",
    "    return colm_val_dict"
   ]
  },
  {
   "cell_type": "code",
   "execution_count": 3,
   "metadata": {},
   "outputs": [],
   "source": [
    "def transform(x, tr_dict):\n",
    "    for i in range(0,x.shape[1]):\n",
    "        if str(i) in tr_dict:\n",
    "            tmp = x[:, i]\n",
    "            for j in range(len(tmp)):\n",
    "                if tmp[j] in tr_dict[str(i)]:\n",
    "                    x[j, i] = tr_dict[str(i)][tmp[j]]\n",
    "                else:\n",
    "                    x[j, i] = len(tr_dict[str(i)])/2\n",
    "    return x"
   ]
  },
  {
   "cell_type": "code",
   "execution_count": 4,
   "metadata": {},
   "outputs": [],
   "source": [
    "def sep_two_classes(Y, num_class):\n",
    "    Y = Y.copy()\n",
    "    for i in range(Y.shape[0]):\n",
    "        if Y[i] == num_class:\n",
    "            Y[i] = 1\n",
    "        else:\n",
    "            Y[i] = -1\n",
    "    return Y"
   ]
  },
  {
   "cell_type": "code",
   "execution_count": 58,
   "metadata": {},
   "outputs": [],
   "source": [
    "def get_dataset():\n",
    "    train = np.asarray(pd.read_csv('train2.csv'))\n",
    "    test = np.asarray(pd.read_csv('test2.csv'))\n",
    "    \n",
    "    x_train , y_train = train[:, :-1], train[:,-1]\n",
    "    x_test , y_test = test[:, :-1], test[:,-1]\n",
    "    \n",
    "    prepr_dict = fit_preproc(x_train)\n",
    "    print('Dictionary:\\n', prepr_dict)\n",
    "    x_train = transform(x_train, prepr_dict)\n",
    "    x_test = transform(x_test, prepr_dict)\n",
    "    \n",
    "    imp_train = Imputer(missing_values=np.nan)\n",
    "    imp = imp_train.fit(x_train)\n",
    "    x_train = imp.transform(x_train)\n",
    "    x_test = imp.transform(x_test)\n",
    "\n",
    "    y_train = sep_two_classes(y_train, '>50K')\n",
    "    y_test = sep_two_classes(y_test, '>50K')\n",
    "\n",
    "    pd.set_option('display.height',1000)\n",
    "    pd.set_option('display.max_rows',10)\n",
    "    pd.set_option('display.max_columns',500)\n",
    "    pd.set_option('display.width',1000)\n",
    "\n",
    "    df_train = pd.DataFrame([np.append(x_train[i], y_train[i]) for i in range(x_train.shape[0])], columns = [str(i) for i in range(x_train.shape[1]+1)])\n",
    "    print('\\nTrain data:\\n', df_train)\n",
    "\n",
    "    df_test = pd.DataFrame([np.append(x_test[i], y_test[i]) for i in range(x_test.shape[0])], columns = [str(i) for i in range(x_test.shape[1]+1)])\n",
    "    print('\\nTest data:\\n', df_test)\n",
    "    return x_train, y_train, x_test, y_test"
   ]
  }
 ],
 "metadata": {
  "kernelspec": {
   "display_name": "Python 3",
   "language": "python",
   "name": "python3"
  },
  "language_info": {
   "codemirror_mode": {
    "name": "ipython",
    "version": 3
   },
   "file_extension": ".py",
   "mimetype": "text/x-python",
   "name": "python",
   "nbconvert_exporter": "python",
   "pygments_lexer": "ipython3",
   "version": "3.6.4"
  }
 },
 "nbformat": 4,
 "nbformat_minor": 2
}
