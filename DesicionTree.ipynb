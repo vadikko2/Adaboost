{
 "cells": [
  {
   "cell_type": "code",
   "execution_count": 2,
   "metadata": {},
   "outputs": [],
   "source": [
    "import numpy as np\n",
    "import pandas as pd\n",
    "from sklearn.preprocessing import Imputer"
   ]
  },
  {
   "cell_type": "code",
   "execution_count": 3,
   "metadata": {},
   "outputs": [],
   "source": [
    "def fit_preproc(x):\n",
    "    colm_val_dict = {}\n",
    "    for i in range(0,x.shape[1]):\n",
    "        tmp = x[:, i]\n",
    "        if type(tmp[0]) is str:\n",
    "            count = 0\n",
    "            value_dict = {}\n",
    "            #составляем словарь\n",
    "            for val in tmp:\n",
    "                if not (val in value_dict.keys()):\n",
    "                    if val == ' ?':\n",
    "                        value_dict[val] = np.nan\n",
    "                    else:\n",
    "                        value_dict[val] = count\n",
    "                        count+=1\n",
    "            colm_val_dict[str(i)] = value_dict\n",
    "    return colm_val_dict"
   ]
  },
  {
   "cell_type": "code",
   "execution_count": 4,
   "metadata": {},
   "outputs": [],
   "source": [
    "def transform(x, tr_dict):\n",
    "    for i in range(0,x.shape[1]):\n",
    "        if str(i) in tr_dict:\n",
    "            tmp = x[:, i]\n",
    "            for j in range(len(tmp)):\n",
    "                if tmp[j] in tr_dict[str(i)]:\n",
    "                    x[j, i] = tr_dict[str(i)][tmp[j]]\n",
    "                else:\n",
    "                    x[j, i] = len(tr_dict[str(i)])/2\n",
    "    return x"
   ]
  },
  {
   "cell_type": "code",
   "execution_count": 54,
   "metadata": {
    "scrolled": true
   },
   "outputs": [],
   "source": [
    "def get_dataset(filename):\n",
    "    train = np.asarray(pd.read_csv(filename))\n",
    "    X , Y = train[:, :-1], train[:,-1]\n",
    "    p=np.random.permutation(X.shape[0])\n",
    "    x_train = X[p[0:int(len(X)*0.7)], :]\n",
    "    y_train = Y[p[0:int(len(Y)*0.7)]]\n",
    "    x_test = X[p[int(len(X)*0.7):], :]\n",
    "    y_test = Y[p[int(len(Y)*0.7):]]\n",
    "\n",
    "    prepr_dict = fit_preproc(x_train)\n",
    "    print('Dictionary:\\n', prepr_dict)\n",
    "    x_train = transform(x_train, prepr_dict)\n",
    "    x_test = transform(x_test, prepr_dict)\n",
    "\n",
    "    imp_train = Imputer(missing_values=np.nan)\n",
    "    imp = imp_train.fit(x_train)\n",
    "    x_train = imp.transform(x_train)\n",
    "    x_test = imp.transform(x_test)\n",
    "    \n",
    "    y_train = sep_two_classes(y_train, 1)\n",
    "    y_test = sep_two_classes(y_test, 1)\n",
    "\n",
    "    pd.set_option('display.height',1000)\n",
    "    pd.set_option('display.max_rows',10)\n",
    "    pd.set_option('display.max_columns',500)\n",
    "    pd.set_option('display.width',1000)\n",
    "\n",
    "    df_train = pd.DataFrame([np.append(x_train[i], y_train[i]) for i in range(x_train.shape[0])], columns = [str(i) for i in range(x_train.shape[1]+1)])\n",
    "    print('\\nTrain data:\\n', df_train)\n",
    "\n",
    "    df_test = pd.DataFrame([np.append(x_test[i], y_test[i]) for i in range(x_test.shape[0])], columns = [str(i) for i in range(x_test.shape[1]+1)])\n",
    "    print('\\nTest data:\\n', df_test)\n",
    "\n",
    "    x_train = (x_train - np.mean(x_train, axis = 0)) / np.var(x_train, axis = 0)\n",
    "    x_test = (x_test - np.mean(x_test, axis = 0)) / np.var(x_test, axis = 0)\n",
    "    return x_train, y_train, x_test, y_test"
   ]
  },
  {
   "cell_type": "code",
   "execution_count": 8,
   "metadata": {},
   "outputs": [],
   "source": [
    "# Calculate the Gini index for a split dataset\n",
    "def gini_index(groups, classes):\n",
    "    # count all samples at split point\n",
    "    n_instances = float(sum([len(group) for group in groups]))\n",
    "    # sum weighted Gini index for each group\n",
    "    gini = 0.0\n",
    "    for group in groups:\n",
    "        size = float(len(group))\n",
    "        # avoid divide by zero\n",
    "        if size == 0:\n",
    "            continue\n",
    "        score = 0.0\n",
    "        # score the group based on the score for each class\n",
    "        for class_val in classes:\n",
    "            p = [row[-1] for row in group].count(class_val) / size\n",
    "            score += p * p\n",
    "        # weight the group score by its relative size\n",
    "        gini += (1.0 - score) * (size / n_instances)\n",
    "    return gini"
   ]
  },
  {
   "cell_type": "code",
   "execution_count": 9,
   "metadata": {},
   "outputs": [],
   "source": [
    "# Split a dataset based on an attribute and an attribute value\n",
    "def test_split(index, value, dataset):\n",
    "    left, right = list(), list()\n",
    "    for row in dataset:\n",
    "        if row[index] < value:\n",
    "            left.append(row)\n",
    "        else:\n",
    "            right.append(row)\n",
    "    return left, right"
   ]
  },
  {
   "cell_type": "code",
   "execution_count": 22,
   "metadata": {},
   "outputs": [],
   "source": [
    "def get_split(dataset):\n",
    "    class_values = list(set(row[-1] for row in dataset))\n",
    "    b_index, b_value, b_score, b_groups = 999, 999, 999, None\n",
    "    for index in range(len(dataset[0])-1):\n",
    "        for row in dataset:\n",
    "            groups = test_split(index, row[index], dataset)\n",
    "            gini = gini_index(groups, class_values)\n",
    "            if gini < b_score:\n",
    "                b_index, b_value, b_score, b_groups = index, row[index], gini, groups\n",
    "    return {'index':b_index, 'value':b_value, 'groups':b_groups}"
   ]
  },
  {
   "cell_type": "code",
   "execution_count": 23,
   "metadata": {},
   "outputs": [],
   "source": [
    "# Create a terminal node value\n",
    "def to_terminal(group):\n",
    "    outcomes = [row[-1] for row in group]\n",
    "    return max(set(outcomes), key=outcomes.count)"
   ]
  },
  {
   "cell_type": "code",
   "execution_count": 24,
   "metadata": {},
   "outputs": [],
   "source": [
    "# Create child splits for a node or make terminal\n",
    "def split(node, max_depth, min_size, depth):\n",
    "    left, right = node['groups']\n",
    "    del(node['groups'])\n",
    "    # check for a no split\n",
    "    if not left or not right:\n",
    "        node['left'] = node['right'] = to_terminal(left + right)\n",
    "        return\n",
    "    # check for max depth\n",
    "    if depth >= max_depth:\n",
    "        node['left'], node['right'] = to_terminal(left), to_terminal(right)\n",
    "        return\n",
    "    # process left child\n",
    "    if len(left) <= min_size:\n",
    "        node['left'] = to_terminal(left)\n",
    "    else:\n",
    "        node['left'] = get_split(left)\n",
    "        split(node['left'], max_depth, min_size, depth+1)\n",
    "    # process right child\n",
    "    if len(right) <= min_size:\n",
    "        node['right'] = to_terminal(right)\n",
    "    else:\n",
    "        node['right'] = get_split(right)\n",
    "        split(node['right'], max_depth, min_size, depth+1)"
   ]
  },
  {
   "cell_type": "code",
   "execution_count": 25,
   "metadata": {},
   "outputs": [],
   "source": [
    "# Build a decision tree\n",
    "def build_tree(train, max_depth, min_size):\n",
    "    root = get_split(train)\n",
    "    split(root, max_depth, min_size, 1)\n",
    "    return root"
   ]
  },
  {
   "cell_type": "code",
   "execution_count": 26,
   "metadata": {},
   "outputs": [],
   "source": [
    "# Print a decision tree\n",
    "def print_tree(node, depth=0):\n",
    "    if isinstance(node, dict):\n",
    "        print('%s[X%d < %.3f]' % ((depth*' ', (node['index']+1), node['value'])))\n",
    "        print_tree(node['left'], depth+1)\n",
    "        print_tree(node['right'], depth+1)\n",
    "    else:\n",
    "        print('%s[%s]' % ((depth*' ', node)))"
   ]
  },
  {
   "cell_type": "code",
   "execution_count": 37,
   "metadata": {},
   "outputs": [],
   "source": [
    "# Make a prediction with a decision tree\n",
    "def predict(node, row):\n",
    "    if row[node['index']] < node['value']:\n",
    "        if isinstance(node['left'], dict):\n",
    "            return predict(node['left'], row)\n",
    "        else:\n",
    "            return node['left']\n",
    "    else:\n",
    "        if isinstance(node['right'], dict):\n",
    "            return predict(node['right'], row)\n",
    "        else:\n",
    "            return node['right']"
   ]
  },
  {
   "cell_type": "code",
   "execution_count": 42,
   "metadata": {},
   "outputs": [],
   "source": [
    "def accuracy(y_true, y_pred):\n",
    "    counter = 0\n",
    "    for i in range(len(y_true)):\n",
    "        if y_true[i] == y_pred[i]:\n",
    "            counter +=1\n",
    "    return counter/len(y_true)"
   ]
  },
  {
   "cell_type": "code",
   "execution_count": 60,
   "metadata": {},
   "outputs": [],
   "source": [
    "def get_tree(x_train, y_train, max_depth, min_size):\n",
    "    train_dataset = [np.append(x_train[i], y_train[i]) for i in range(x_train.shape[0])]\n",
    "    tree = build_tree(train_dataset, max_depth, min_size)\n",
    "    return tree"
   ]
  },
  {
   "cell_type": "code",
   "execution_count": 75,
   "metadata": {},
   "outputs": [],
   "source": [
    "def test():\n",
    "    x_train, y_train, x_test, y_test = get_dataset('train2.csv')\n",
    "    test_dataset = [np.append(x_train[i], y_train[i]) for i in range(x_train.shape[0])][:1]\n",
    "    tree = get_tree(x_train[:200], y_train[:200], 10, 10)\n",
    "    print('\\nTree\\n')\n",
    "    print_tree(tree)\n",
    "    predictions = []\n",
    "    for row in test_dataset:\n",
    "        predictions.append(predict(tree, row))\n",
    "    print('\\naccuracy:', accuracy(y_test[:1], predictions))\n",
    "    print(predictions)"
   ]
  },
  {
   "cell_type": "code",
   "execution_count": 77,
   "metadata": {
    "scrolled": true
   },
   "outputs": [
    {
     "name": "stdout",
     "output_type": "stream",
     "text": [
      "Dictionary:\n",
      " {'1': {' Self-emp-not-inc': 0, ' Private': 1, ' Federal-gov': 2, ' Local-gov': 3, ' Self-emp-inc': 4, ' State-gov': 5, ' ?': nan, ' Without-pay': 6, ' Never-worked': 7}, '3': {' 1st-4th': 0, ' Bachelors': 1, ' Masters': 2, ' HS-grad': 3, ' 10th': 4, ' Some-college': 5, ' Prof-school': 6, ' 7th-8th': 7, ' 12th': 8, ' Assoc-voc': 9, ' 11th': 10, ' Assoc-acdm': 11, ' 9th': 12, ' 5th-6th': 13, ' Doctorate': 14, ' Preschool': 15}, '5': {' Married-civ-spouse': 0, ' Divorced': 1, ' Married-spouse-absent': 2, ' Never-married': 3, ' Separated': 4, ' Widowed': 5, ' Married-AF-spouse': 6}, '6': {' Sales': 0, ' Exec-managerial': 1, ' Adm-clerical': 2, ' Prof-specialty': 3, ' Craft-repair': 4, ' Other-service': 5, ' Machine-op-inspct': 6, ' Farming-fishing': 7, ' Transport-moving': 8, ' Handlers-cleaners': 9, ' Protective-serv': 10, ' Tech-support': 11, ' ?': nan, ' Priv-house-serv': 12, ' Armed-Forces': 13}, '7': {' Husband': 0, ' Wife': 1, ' Unmarried': 2, ' Not-in-family': 3, ' Own-child': 4, ' Other-relative': 5}, '8': {' White': 0, ' Black': 1, ' Amer-Indian-Eskimo': 2, ' Asian-Pac-Islander': 3, ' Other': 4}, '9': {' Male': 0, ' Female': 1}, '13': {' Mexico': 0, ' United-States': 1, ' India': 2, ' Cuba': 3, ' ?': nan, ' Hong': 4, ' Portugal': 5, ' Germany': 6, ' Cambodia': 7, ' Taiwan': 8, ' Canada': 9, ' Philippines': 10, ' Italy': 11, ' Puerto-Rico': 12, ' Ecuador': 13, ' Thailand': 14, ' Jamaica': 15, ' Honduras': 16, ' Nicaragua': 17, ' Greece': 18, ' El-Salvador': 19, ' France': 20, ' Dominican-Republic': 21, ' England': 22, ' South': 23, ' Yugoslavia': 24, ' Japan': 25, ' Iran': 26, ' Peru': 27, ' Hungary': 28, ' Ireland': 29, ' China': 30, ' Vietnam': 31, ' Trinadad&Tobago': 32, ' Guatemala': 33, ' Poland': 34, ' Haiti': 35, ' Columbia': 36, ' Laos': 37, ' Outlying-US(Guam-USVI-etc)': 38, ' Scotland': 39, ' Holand-Netherlands': 40}}\n",
      "\n",
      "Train data:\n",
      "           0    1         2    3     4    5    6    7    8    9   10      11    12   13   14\n",
      "0      57.0  0.0  253914.0  0.0   2.0  0.0  0.0  0.0  0.0  0.0  0.0     0.0  35.0  0.0 -1.0\n",
      "1      28.0  0.0   96219.0  1.0  13.0  0.0  0.0  1.0  0.0  1.0  0.0     0.0   5.0  1.0 -1.0\n",
      "2      53.0  1.0  110977.0  2.0  14.0  0.0  1.0  0.0  0.0  0.0  0.0  1902.0  50.0  1.0  1.0\n",
      "3      45.0  1.0  101320.0  3.0   9.0  1.0  2.0  2.0  0.0  1.0  0.0     0.0  40.0  1.0 -1.0\n",
      "4      31.0  1.0  222654.0  1.0  13.0  0.0  1.0  0.0  0.0  0.0  0.0     0.0  40.0  1.0 -1.0\n",
      "...     ...  ...       ...  ...   ...  ...  ...  ...  ...  ...  ...     ...   ...  ...  ...\n",
      "22787  31.0  1.0  232475.0  5.0  10.0  0.0  2.0  0.0  0.0  0.0  0.0     0.0  40.0  1.0 -1.0\n",
      "22788  19.0  1.0   46162.0  3.0   9.0  3.0  7.0  4.0  0.0  0.0  0.0     0.0  25.0  1.0 -1.0\n",
      "22789  46.0  1.0   28419.0  9.0  11.0  3.0  8.0  3.0  0.0  0.0  0.0     0.0  50.0  1.0 -1.0\n",
      "22790  18.0  1.0  162840.0  8.0   8.0  3.0  0.0  4.0  0.0  1.0  0.0     0.0  20.0  1.0 -1.0\n",
      "22791  60.0  1.0  166330.0  3.0   9.0  0.0  2.0  1.0  0.0  1.0  0.0     0.0  40.0  1.0 -1.0\n",
      "\n",
      "[22792 rows x 15 columns]\n",
      "\n",
      "Test data:\n",
      "          0         1         2    3     4    5          6    7    8    9   10   11    12   13   14\n",
      "0     29.0  1.000000  535978.0  5.0  10.0  0.0   4.000000  0.0  0.0  0.0  0.0  0.0  45.0  1.0 -1.0\n",
      "1     61.0  1.365405  187636.0  1.0  13.0  1.0   3.884162  2.0  0.0  1.0  0.0  0.0  40.0  1.0 -1.0\n",
      "2     47.0  0.000000  172034.0  3.0   9.0  0.0   0.000000  0.0  0.0  0.0  0.0  0.0  75.0  1.0  1.0\n",
      "3     19.0  1.000000  139466.0  5.0  10.0  3.0   0.000000  4.0  0.0  1.0  0.0  0.0  25.0  1.0 -1.0\n",
      "4     37.0  1.000000  329026.0  3.0   9.0  0.0   2.000000  1.0  0.0  1.0  0.0  0.0  40.0  1.0  1.0\n",
      "...    ...       ...       ...  ...   ...  ...        ...  ...  ...  ...  ...  ...   ...  ...  ...\n",
      "9764  41.0  5.000000  288433.0  2.0  14.0  3.0   2.000000  3.0  1.0  1.0  0.0  0.0  40.0  1.0 -1.0\n",
      "9765  62.0  1.000000  149617.0  5.0  10.0  5.0   1.000000  3.0  0.0  1.0  0.0  0.0  16.0  1.0 -1.0\n",
      "9766  65.0  1.000000  150095.0  1.0  13.0  0.0   1.000000  0.0  0.0  0.0  0.0  0.0  40.0  1.0  1.0\n",
      "9767  33.0  3.000000  511289.0  9.0  11.0  0.0  10.000000  0.0  0.0  0.0  0.0  0.0  48.0  1.0  1.0\n",
      "9768  39.0  1.000000  132879.0  5.0  10.0  0.0   1.000000  0.0  0.0  0.0  0.0  0.0  50.0  1.0  1.0\n",
      "\n",
      "[9769 rows x 15 columns]\n",
      "\n",
      "Tree\n",
      "\n",
      "[X11 < 0.000]\n",
      " [X8 < 0.070]\n",
      "  [X5 < 0.289]\n",
      "   [X14 < 0.036]\n",
      "    [X4 < 0.562]\n",
      "     [X1 < 0.121]\n",
      "      [X13 < -0.107]\n",
      "       [-1.0]\n",
      "       [X1 < -0.057]\n",
      "        [-1.0]\n",
      "        [X1 < 0.100]\n",
      "         [X1 < 0.013]\n",
      "          [-1.0]\n",
      "          [-1.0]\n",
      "         [-1.0]\n",
      "      [-1.0]\n",
      "     [1.0]\n",
      "    [1.0]\n",
      "   [X7 < -0.106]\n",
      "    [X13 < 0.029]\n",
      "     [-1.0]\n",
      "     [1.0]\n",
      "    [1.0]\n",
      "  [X1 < 0.111]\n",
      "   [X12 < 0.017]\n",
      "    [X1 < 0.035]\n",
      "     [X1 < -0.105]\n",
      "      [-1.0]\n",
      "      [X1 < -0.105]\n",
      "       [-1.0]\n",
      "       [-1.0]\n",
      "     [X1 < 0.035]\n",
      "      [-1.0]\n",
      "      [-1.0]\n",
      "    [1.0]\n",
      "   [-1.0]\n",
      " [X1 < 0.100]\n",
      "  [X1 < 0.084]\n",
      "   [X1 < -0.035]\n",
      "    [1.0]\n",
      "    [X1 < -0.035]\n",
      "     [1.0]\n",
      "     [1.0]\n",
      "   [1.0]\n",
      "  [1.0]\n",
      "\n",
      "accuracy: 1.0\n",
      "[-1.0]\n"
     ]
    }
   ],
   "source": [
    "test()"
   ]
  }
 ],
 "metadata": {
  "kernelspec": {
   "display_name": "Python 3",
   "language": "python",
   "name": "python3"
  },
  "language_info": {
   "codemirror_mode": {
    "name": "ipython",
    "version": 3
   },
   "file_extension": ".py",
   "mimetype": "text/x-python",
   "name": "python",
   "nbconvert_exporter": "python",
   "pygments_lexer": "ipython3",
   "version": "3.6.4"
  }
 },
 "nbformat": 4,
 "nbformat_minor": 2
}
